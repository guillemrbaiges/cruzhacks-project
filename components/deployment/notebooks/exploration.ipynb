{
 "cells": [
  {
   "cell_type": "code",
   "execution_count": null,
   "metadata": {},
   "outputs": [],
   "source": [
    "from deployment.hello import say_hello\n",
    "\n",
    "say_hello(\"Adventurer\")"
   ]
  },
  {
   "cell_type": "code",
   "execution_count": null,
   "metadata": {},
   "outputs": [],
   "source": []
  },
  {
   "cell_type": "code",
   "execution_count": null,
   "metadata": {},
   "outputs": [],
   "source": [
    "from kfp_unicron.cli.components import build\n",
    "from pathlib import Path\n",
    "import os\n",
    "\n",
    "ORGANIZATION = os.getenv(\"ORGANIZATION\")\n",
    "\n",
    "\n",
    "build(component_folder=Path(\"../\"), organization=ORGANIZATION)"
   ]
  }
 ],
 "metadata": {
  "language_info": {
   "name": "python"
  },
  "orig_nbformat": 4
 },
 "nbformat": 4,
 "nbformat_minor": 2
}
