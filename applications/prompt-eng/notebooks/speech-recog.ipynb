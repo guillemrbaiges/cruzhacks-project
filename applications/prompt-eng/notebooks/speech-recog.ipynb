{
 "cells": [
  {
   "cell_type": "code",
   "execution_count": 1,
   "metadata": {},
   "outputs": [],
   "source": [
    "import asyncio\n",
    "import aiofile\n",
    "import nest_asyncio\n",
    "\n",
    "from amazon_transcribe.client import TranscribeStreamingClient\n",
    "from amazon_transcribe.handlers import TranscriptResultStreamHandler\n",
    "from amazon_transcribe.model import TranscriptEvent"
   ]
  },
  {
   "cell_type": "code",
   "execution_count": 2,
   "metadata": {},
   "outputs": [],
   "source": [
    "\"\"\"\n",
    "Here's an example of a custom event handler you can extend to\n",
    "process the returned transcription results as needed. This\n",
    "handler will simply print the text out to your interpreter.\n",
    "\"\"\"\n",
    "class MyEventHandler(TranscriptResultStreamHandler):\n",
    "    async def handle_transcript_event(self, transcript_event: TranscriptEvent):\n",
    "        # This handler can be implemented to handle transcriptions as needed.\n",
    "        # Here's an example to get started.\n",
    "        results = transcript_event.transcript.results\n",
    "        for result in results:\n",
    "            for alt in result.alternatives:\n",
    "                print(alt.transcript)\n",
    "\n",
    "\n",
    "async def basic_transcribe(file_path: str):\n",
    "    # Set up our client with your chosen Region\n",
    "    client = TranscribeStreamingClient(region = \"eu-central-1\")\n",
    "\n",
    "    # Start transcription to generate async stream\n",
    "    stream = await client.start_stream_transcription(\n",
    "        language_code = \"en-US\",\n",
    "        media_sample_rate_hz = 16000,\n",
    "        media_encoding = \"pcm\",\n",
    "    )\n",
    "\n",
    "    async def write_chunks():\n",
    "        # NOTE: For pre-recorded files longer than 5 minutes, the sent audio\n",
    "        # chunks should be rate limited to match the real-time bitrate of the\n",
    "        # audio stream to avoid signing issues.\n",
    "        async with aiofile.AIOFile(file_path, 'rb') as afp:\n",
    "            reader = aiofile.Reader(afp, chunk_size = 1024 * 16)\n",
    "            async for chunk in reader:\n",
    "                await stream.input_stream.send_audio_event(audio_chunk = chunk)\n",
    "        await stream.input_stream.end_stream()\n",
    "\n",
    "    # Instantiate our handler and start processing events\n",
    "    handler = MyEventHandler(stream.output_stream)\n",
    "    await asyncio.gather(write_chunks(), handler.handle_events())"
   ]
  },
  {
   "cell_type": "code",
   "execution_count": null,
   "metadata": {},
   "outputs": [],
   "source": []
  },
  {
   "cell_type": "code",
   "execution_count": 3,
   "metadata": {},
   "outputs": [
    {
     "name": "stdout",
     "output_type": "stream",
     "text": [
      "Bang.\n",
      "Bang.\n",
      "Bang.\n",
      "Bang.\n",
      "Bangor.\n",
      "Bangor.\n",
      "Mm hmm.\n",
      "Mm hmm.\n",
      "Mm hmm.\n"
     ]
    },
    {
     "ename": "KeyboardInterrupt",
     "evalue": "",
     "output_type": "error",
     "traceback": [
      "\u001b[0;31m---------------------------------------------------------------------------\u001b[0m",
      "\u001b[0;31mKeyboardInterrupt\u001b[0m                         Traceback (most recent call last)",
      "Cell \u001b[0;32mIn[3], line 4\u001b[0m\n\u001b[1;32m      1\u001b[0m nest_asyncio\u001b[39m.\u001b[39mapply()\n\u001b[1;32m      3\u001b[0m loop \u001b[39m=\u001b[39m asyncio\u001b[39m.\u001b[39mget_event_loop()\n\u001b[0;32m----> 4\u001b[0m loop\u001b[39m.\u001b[39;49mrun_until_complete(basic_transcribe(\u001b[39m'\u001b[39;49m\u001b[39m../data/short_trump_biden_highlights.wav\u001b[39;49m\u001b[39m'\u001b[39;49m))\n\u001b[1;32m      5\u001b[0m loop\u001b[39m.\u001b[39mclose()\n",
      "File \u001b[0;32m~/work/cruzhacks-project/components/prompt-eng/.venv/lib/python3.9/site-packages/nest_asyncio.py:93\u001b[0m, in \u001b[0;36m_patch_loop.<locals>.run_until_complete\u001b[0;34m(self, future)\u001b[0m\n\u001b[1;32m     91\u001b[0m     f\u001b[39m.\u001b[39m_log_destroy_pending \u001b[39m=\u001b[39m \u001b[39mFalse\u001b[39;00m\n\u001b[1;32m     92\u001b[0m \u001b[39mwhile\u001b[39;00m \u001b[39mnot\u001b[39;00m f\u001b[39m.\u001b[39mdone():\n\u001b[0;32m---> 93\u001b[0m     \u001b[39mself\u001b[39;49m\u001b[39m.\u001b[39;49m_run_once()\n\u001b[1;32m     94\u001b[0m     \u001b[39mif\u001b[39;00m \u001b[39mself\u001b[39m\u001b[39m.\u001b[39m_stopping:\n\u001b[1;32m     95\u001b[0m         \u001b[39mbreak\u001b[39;00m\n",
      "File \u001b[0;32m~/work/cruzhacks-project/components/prompt-eng/.venv/lib/python3.9/site-packages/nest_asyncio.py:116\u001b[0m, in \u001b[0;36m_patch_loop.<locals>._run_once\u001b[0;34m(self)\u001b[0m\n\u001b[1;32m    109\u001b[0m     heappop(scheduled)\n\u001b[1;32m    111\u001b[0m timeout \u001b[39m=\u001b[39m (\n\u001b[1;32m    112\u001b[0m     \u001b[39m0\u001b[39m \u001b[39mif\u001b[39;00m ready \u001b[39mor\u001b[39;00m \u001b[39mself\u001b[39m\u001b[39m.\u001b[39m_stopping\n\u001b[1;32m    113\u001b[0m     \u001b[39melse\u001b[39;00m \u001b[39mmin\u001b[39m(\u001b[39mmax\u001b[39m(\n\u001b[1;32m    114\u001b[0m         scheduled[\u001b[39m0\u001b[39m]\u001b[39m.\u001b[39m_when \u001b[39m-\u001b[39m \u001b[39mself\u001b[39m\u001b[39m.\u001b[39mtime(), \u001b[39m0\u001b[39m), \u001b[39m86400\u001b[39m) \u001b[39mif\u001b[39;00m scheduled\n\u001b[1;32m    115\u001b[0m     \u001b[39melse\u001b[39;00m \u001b[39mNone\u001b[39;00m)\n\u001b[0;32m--> 116\u001b[0m event_list \u001b[39m=\u001b[39m \u001b[39mself\u001b[39;49m\u001b[39m.\u001b[39;49m_selector\u001b[39m.\u001b[39;49mselect(timeout)\n\u001b[1;32m    117\u001b[0m \u001b[39mself\u001b[39m\u001b[39m.\u001b[39m_process_events(event_list)\n\u001b[1;32m    119\u001b[0m end_time \u001b[39m=\u001b[39m \u001b[39mself\u001b[39m\u001b[39m.\u001b[39mtime() \u001b[39m+\u001b[39m \u001b[39mself\u001b[39m\u001b[39m.\u001b[39m_clock_resolution\n",
      "File \u001b[0;32m/usr/local/lib/python3.9/selectors.py:469\u001b[0m, in \u001b[0;36mEpollSelector.select\u001b[0;34m(self, timeout)\u001b[0m\n\u001b[1;32m    467\u001b[0m ready \u001b[39m=\u001b[39m []\n\u001b[1;32m    468\u001b[0m \u001b[39mtry\u001b[39;00m:\n\u001b[0;32m--> 469\u001b[0m     fd_event_list \u001b[39m=\u001b[39m \u001b[39mself\u001b[39;49m\u001b[39m.\u001b[39;49m_selector\u001b[39m.\u001b[39;49mpoll(timeout, max_ev)\n\u001b[1;32m    470\u001b[0m \u001b[39mexcept\u001b[39;00m \u001b[39mInterruptedError\u001b[39;00m:\n\u001b[1;32m    471\u001b[0m     \u001b[39mreturn\u001b[39;00m ready\n",
      "\u001b[0;31mKeyboardInterrupt\u001b[0m: "
     ]
    },
    {
     "name": "stdout",
     "output_type": "stream",
     "text": [
      "Yeah.\n",
      "Yeah.\n",
      "Yeah.\n",
      "Hmm.\n",
      "Hmm.\n",
      "Hmm.\n",
      "All right.\n",
      "All right.\n",
      "All right.\n",
      "Hmm.\n",
      "Hmm.\n",
      "Hmm.\n"
     ]
    }
   ],
   "source": [
    "nest_asyncio.apply()\n",
    "\n",
    "loop = asyncio.get_event_loop()\n",
    "loop.run_until_complete(basic_transcribe('../data/short_trump_biden_highlights.wav'))\n",
    "loop.close()"
   ]
  },
  {
   "cell_type": "code",
   "execution_count": null,
   "metadata": {},
   "outputs": [],
   "source": []
  }
 ],
 "metadata": {
  "kernelspec": {
   "display_name": ".venv",
   "language": "python",
   "name": "python3"
  },
  "language_info": {
   "codemirror_mode": {
    "name": "ipython",
    "version": 3
   },
   "file_extension": ".py",
   "mimetype": "text/x-python",
   "name": "python",
   "nbconvert_exporter": "python",
   "pygments_lexer": "ipython3",
   "version": "3.9.16"
  },
  "orig_nbformat": 4,
  "vscode": {
   "interpreter": {
    "hash": "29070c0b80c037f9693f99ba83953f6384221e2eba533e704f95b9f7795a624c"
   }
  }
 },
 "nbformat": 4,
 "nbformat_minor": 2
}
